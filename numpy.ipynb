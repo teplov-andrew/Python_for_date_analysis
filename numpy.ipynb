{
  "nbformat": 4,
  "nbformat_minor": 0,
  "metadata": {
    "colab": {
      "provenance": []
    },
    "kernelspec": {
      "name": "python3",
      "display_name": "Python 3"
    },
    "language_info": {
      "name": "python"
    }
  },
  "cells": [
    {
      "cell_type": "markdown",
      "source": [
        "**Домашнее задание 1**"
      ],
      "metadata": {
        "id": "4RcLSNBEe4ZJ"
      }
    },
    {
      "cell_type": "markdown",
      "source": [
        "Решите предложенные задания с использованием модуля NumPy. Использование условий и циклов крайне нежелательно (списковые включения это тоже цикл!), за это будут снижаться баллы.\n",
        "Все задания равноценны. В каждой задаче постарайтесь придумать несколько решений. В задачах, где обязательно необходимо предложить хотя бы два решения, об этом написано. Решением должен быть Jupyter notebook / ссылка на Colab"
      ],
      "metadata": {
        "id": "pztkxtkhe9EO"
      }
    },
    {
      "cell_type": "markdown",
      "source": [
        "Под массивом (если не указано иное), понимается одномерный массив. Для большей части задач не указан размер массива. Это значит, что код должен работать корректно для любого размера массива"
      ],
      "metadata": {
        "id": "xAB-US-cfH9k"
      }
    },
    {
      "cell_type": "code",
      "source": [
        "import numpy as np"
      ],
      "metadata": {
        "id": "IySbUpnKLRiL"
      },
      "execution_count": 1,
      "outputs": []
    },
    {
      "cell_type": "markdown",
      "source": [
        "1. Создайте массив 3x3, состоящий из True. Напишите минимум два варианта решения\n"
      ],
      "metadata": {
        "id": "UI0rE3Sqe_t1"
      }
    },
    {
      "cell_type": "code",
      "execution_count": 2,
      "metadata": {
        "id": "o9o5if-Ze1pV",
        "colab": {
          "base_uri": "https://localhost:8080/"
        },
        "outputId": "481c61f0-c737-4863-a232-ed834b1103e0"
      },
      "outputs": [
        {
          "output_type": "execute_result",
          "data": {
            "text/plain": [
              "(array([[ True,  True,  True],\n",
              "        [ True,  True,  True],\n",
              "        [ True,  True,  True]]),\n",
              " array([[ True,  True,  True],\n",
              "        [ True,  True,  True],\n",
              "        [ True,  True,  True]]),\n",
              " array([[ True,  True,  True],\n",
              "        [ True,  True,  True],\n",
              "        [ True,  True,  True]]))"
            ]
          },
          "metadata": {},
          "execution_count": 2
        }
      ],
      "source": [
        "arr_true_1 = np.array([[True] * 3] * 3)\n",
        "arr_true_2 = np.array([[True, True, True], [True, True, True], [True, True, True]])\n",
        "arr_true_3 = np.ones((3, 3), dtype=bool)\n",
        "arr_true_1, arr_true_2, arr_true_3"
      ]
    },
    {
      "cell_type": "markdown",
      "source": [
        "2. Замените в массиве все нечетные положительные числа на -1"
      ],
      "metadata": {
        "id": "hYpMLg6Jffy_"
      }
    },
    {
      "cell_type": "code",
      "execution_count": 4,
      "metadata": {
        "id": "2k2fOOoGffy_",
        "colab": {
          "base_uri": "https://localhost:8080/"
        },
        "outputId": "7003d897-3426-48dc-8885-4297ebdf1ede"
      },
      "outputs": [
        {
          "output_type": "stream",
          "name": "stdout",
          "text": [
            "[-5 -4 -3 -2 -1  0  1  2  3  4  5  6  7  8  9]\n"
          ]
        },
        {
          "output_type": "execute_result",
          "data": {
            "text/plain": [
              "array([-5, -4, -3, -2, -1,  0, -1,  2, -1,  4, -1,  6, -1,  8, -1])"
            ]
          },
          "metadata": {},
          "execution_count": 4
        }
      ],
      "source": [
        "arr = np.arange(-5, 10)\n",
        "print(arr)\n",
        "arr[(arr %2 != 0) & (arr > 0)]=-1\n",
        "arr"
      ]
    },
    {
      "cell_type": "markdown",
      "source": [
        "3. Найдите все числа, встречающиеся в 1 и 2 массивах"
      ],
      "metadata": {
        "id": "xLDIzCXSfgUS"
      }
    },
    {
      "cell_type": "code",
      "execution_count": 5,
      "metadata": {
        "id": "pqW7K14QfgUS",
        "colab": {
          "base_uri": "https://localhost:8080/"
        },
        "outputId": "666b4a38-66e9-4aa5-f784-5b3ebcb13b99"
      },
      "outputs": [
        {
          "output_type": "execute_result",
          "data": {
            "text/plain": [
              "array([  1,   2,   3,   4, 213])"
            ]
          },
          "metadata": {},
          "execution_count": 5
        }
      ],
      "source": [
        "arr1 = np.array([[1,2,3], [4,6,7], [43,12,213]])\n",
        "arr2 = np.array([[2,3,9], [1,4,213]])\n",
        "arr1_arr2 = np.intersect1d(arr1,arr2)\n",
        "arr1_arr2"
      ]
    },
    {
      "cell_type": "markdown",
      "source": [
        "4. Дана функция maxx, работающая с двумя числами. Напишите обертку над ней, которая будет работать с двумя np.array (одинакового размера) и будет применять функцию maxx поэлементно (вместо maxx может быть любая другая кастомная функция)\n",
        "\n",
        "\n",
        "```\n",
        "def maxx(x, y):\n",
        "\t    return x if x >= y else y\n",
        "```\n",
        "\n",
        "\n"
      ],
      "metadata": {
        "id": "7NGZzKYjfga_"
      }
    },
    {
      "cell_type": "code",
      "source": [
        "def maxx(x, y):\n",
        "        return x if x >= y else y"
      ],
      "metadata": {
        "id": "g33Ma1MCSflC"
      },
      "execution_count": 7,
      "outputs": []
    },
    {
      "cell_type": "code",
      "execution_count": 8,
      "metadata": {
        "id": "kp95R4sCfga_",
        "colab": {
          "base_uri": "https://localhost:8080/"
        },
        "outputId": "7dc0e6dc-ab26-4cb3-b8ac-8766bbfcd70b"
      },
      "outputs": [
        {
          "output_type": "execute_result",
          "data": {
            "text/plain": [
              "array([[  2,   3,   9],\n",
              "       [  4,   6, 213]])"
            ]
          },
          "metadata": {},
          "execution_count": 8
        }
      ],
      "source": [
        "arr1 = np.array([[1,2,3], [4,6,7]])\n",
        "arr2 = np.array([[2,3,9], [1,4,213]])\n",
        "func = np.vectorize(maxx)\n",
        "res = func(arr1,arr2)\n",
        "res"
      ]
    },
    {
      "cell_type": "markdown",
      "source": [
        "5. Дана матрица 3х3. Поменяйте местами 1 и 2 столбцы матрицы."
      ],
      "metadata": {
        "id": "vtDaIJJvfgfV"
      }
    },
    {
      "cell_type": "code",
      "execution_count": 9,
      "metadata": {
        "id": "GBCy-u0zfgfV",
        "colab": {
          "base_uri": "https://localhost:8080/"
        },
        "outputId": "75a52791-fb9d-478e-c935-d66769b66933"
      },
      "outputs": [
        {
          "output_type": "execute_result",
          "data": {
            "text/plain": [
              "array([[ 4,  6,  7],\n",
              "       [ 1,  2,  3],\n",
              "       [52, 12, 34]])"
            ]
          },
          "metadata": {},
          "execution_count": 9
        }
      ],
      "source": [
        "arr1 = np.array([[1,2,3], [4,6,7], [52,12,34]])\n",
        "tmp = arr1[0].copy()\n",
        "arr1[0] = arr1[1]\n",
        "arr1[1] = tmp\n",
        "arr1"
      ]
    },
    {
      "cell_type": "markdown",
      "source": [
        "6. Поменяйте опции (```np.set_printoptions```), чтобы при выводе numpy.array отображалось не более 6 элементов"
      ],
      "metadata": {
        "id": "Oj9ydDJLfgnR"
      }
    },
    {
      "cell_type": "code",
      "execution_count": 10,
      "metadata": {
        "id": "Y-2HJiwgfgnR",
        "colab": {
          "base_uri": "https://localhost:8080/"
        },
        "outputId": "6aec955a-a452-44a6-a6b4-7ac929aa97bb"
      },
      "outputs": [
        {
          "output_type": "execute_result",
          "data": {
            "text/plain": [
              "array([ 2,  3,  4, ..., 52, 12, 34])"
            ]
          },
          "metadata": {},
          "execution_count": 10
        }
      ],
      "source": [
        "np.set_printoptions(threshold=6)\n",
        "arr1 = np.array([2,3,4,6,7,52,12,34])\n",
        "arr1"
      ]
    },
    {
      "cell_type": "markdown",
      "source": [
        "7. В данном массиве замените все числа, меньшие 0 на 0, а большие 255 на 255. Напишите минимум два варианта решения"
      ],
      "metadata": {
        "id": "K66Xk-IGfgo4"
      }
    },
    {
      "cell_type": "code",
      "source": [
        "np.set_printoptions()"
      ],
      "metadata": {
        "id": "xhcXaYGjWBBn"
      },
      "execution_count": 11,
      "outputs": []
    },
    {
      "cell_type": "code",
      "execution_count": 12,
      "metadata": {
        "id": "yfUBo1Lqfgo4",
        "colab": {
          "base_uri": "https://localhost:8080/"
        },
        "outputId": "174f22d6-0121-4016-a646-c2183bfb1602"
      },
      "outputs": [
        {
          "output_type": "execute_result",
          "data": {
            "text/plain": [
              "array([  2,   0,   0, 255, 255])"
            ]
          },
          "metadata": {},
          "execution_count": 12
        }
      ],
      "source": [
        "arr1 = np.array([2,-32,-1,21512,22332])\n",
        "arr1[(arr1<0)]=0\n",
        "arr1[(arr1>255)]=255\n",
        "arr1"
      ]
    },
    {
      "cell_type": "code",
      "source": [
        "arr1 = np.array([2, -32, -1, 21512, 22332])\n",
        "arr1 = np.clip(arr1, 0, 255)\n",
        "arr1"
      ],
      "metadata": {
        "colab": {
          "base_uri": "https://localhost:8080/"
        },
        "id": "pvxJeFYbYdat",
        "outputId": "c6a1207a-864d-4681-b2af-7133d794d313"
      },
      "execution_count": 13,
      "outputs": [
        {
          "output_type": "execute_result",
          "data": {
            "text/plain": [
              "array([  2,   0,   0, 255, 255])"
            ]
          },
          "metadata": {},
          "execution_count": 13
        }
      ]
    },
    {
      "cell_type": "markdown",
      "source": [
        "8. Выведите позиции топ-5 максимальных элементов в массиве. Попробуйте решить задачу за линейную сложность относительно числа элементов"
      ],
      "metadata": {
        "id": "IUgt2Rqsfgqp"
      }
    },
    {
      "cell_type": "code",
      "execution_count": 32,
      "metadata": {
        "id": "RUvuwMT_fgqq",
        "colab": {
          "base_uri": "https://localhost:8080/"
        },
        "outputId": "0f8dbfae-b6ff-4cf7-edf0-b4efb57c1dd6"
      },
      "outputs": [
        {
          "output_type": "execute_result",
          "data": {
            "text/plain": [
              "array([  21412,   21512,   22332, 8796789,  142124])"
            ]
          },
          "metadata": {},
          "execution_count": 32
        }
      ],
      "source": [
        "arr1 = np.array([2, -32, -1, 21512, 22332,21412,142124,8796789,6768])\n",
        "arr1[np.argpartition(arr1, -5)][-5:]"
      ]
    },
    {
      "cell_type": "markdown",
      "source": [
        "9. Преобразуйте массив массивов в одномерный массив."
      ],
      "metadata": {
        "id": "8x_79zGzfgtQ"
      }
    },
    {
      "cell_type": "code",
      "execution_count": 15,
      "metadata": {
        "id": "4AhgBCO8fgtQ",
        "colab": {
          "base_uri": "https://localhost:8080/"
        },
        "outputId": "55f4f690-396b-4032-df41-1b9bb3987efe"
      },
      "outputs": [
        {
          "output_type": "execute_result",
          "data": {
            "text/plain": [
              "array([ 1,  2,  3, ..., 52, 12, 34])"
            ]
          },
          "metadata": {},
          "execution_count": 15
        }
      ],
      "source": [
        "arr1 = np.array([[1,2,3], [4,6,7], [52,12,34]])\n",
        "arr1.ravel()"
      ]
    },
    {
      "cell_type": "markdown",
      "source": [
        "10. Найдите максимум в каждой строке двумерного массива"
      ],
      "metadata": {
        "id": "sD2_1iRcfguc"
      }
    },
    {
      "cell_type": "code",
      "execution_count": 16,
      "metadata": {
        "id": "8vwGhIiYfgud",
        "colab": {
          "base_uri": "https://localhost:8080/"
        },
        "outputId": "d61f3e04-180d-4d52-fd00-91386ec9847c"
      },
      "outputs": [
        {
          "output_type": "execute_result",
          "data": {
            "text/plain": [
              "array([ 3,  7, 52])"
            ]
          },
          "metadata": {},
          "execution_count": 16
        }
      ],
      "source": [
        "arr1 = np.array([[1,2,3], [4,6,7], [52,12,34]])\n",
        "np.amax(arr1, axis = 1)"
      ]
    },
    {
      "cell_type": "markdown",
      "source": [
        "11. Удалите все np.nan из массива"
      ],
      "metadata": {
        "id": "FhpQUM-efgwp"
      }
    },
    {
      "cell_type": "code",
      "execution_count": 17,
      "metadata": {
        "id": "t1kEcIdhfgwp",
        "colab": {
          "base_uri": "https://localhost:8080/"
        },
        "outputId": "413d14ca-0769-44c8-f497-8831b52dcc83"
      },
      "outputs": [
        {
          "output_type": "execute_result",
          "data": {
            "text/plain": [
              "array([ 1.,  3.,  6.,  7., 52., 12.])"
            ]
          },
          "metadata": {},
          "execution_count": 17
        }
      ],
      "source": [
        "arr1 = np.array([1,np.nan,3, np.nan,6,7, 52,12,np.nan])\n",
        "arr1[np.isnan(arr1)!=True]"
      ]
    },
    {
      "cell_type": "markdown",
      "source": [
        "12. Найдите индекс пятого повторения числа 1 в массиве (считаем, что в массиве есть хотя бы пять единиц)"
      ],
      "metadata": {
        "id": "C_uo6hVEfgx7"
      }
    },
    {
      "cell_type": "code",
      "execution_count": 18,
      "metadata": {
        "id": "lZLVAWMRfgx7",
        "colab": {
          "base_uri": "https://localhost:8080/"
        },
        "outputId": "b51f8073-d65d-45cc-92c2-a380b534f89c"
      },
      "outputs": [
        {
          "output_type": "execute_result",
          "data": {
            "text/plain": [
              "10"
            ]
          },
          "metadata": {},
          "execution_count": 18
        }
      ],
      "source": [
        "arr1 = np.array([1,2,3,1,1,4,6,7,1,52,1,12,34])\n",
        "np.where(arr1==1)[0][-1]"
      ]
    },
    {
      "cell_type": "markdown",
      "source": [
        "13. В квадратной матрице 5х5 из нулей получить ромб из 1, который касается середин сторон квадрата. Решите задачу как для полного ромба (внутри все 1), так и для полого (1 по границе, внутри 0):\n",
        "\n",
        "```\n",
        "полный           полый\n",
        "0 0 1 0 0       0 0 1 0 0\n",
        "0 1 1 1 0       0 1 0 1 0\n",
        "1 1 1 1 1       1 0 0 0 1\n",
        "0 1 1 1 0       0 1 0 1 0\n",
        "0 0 1 0 0       0 0 1 0 0\n",
        "```"
      ],
      "metadata": {
        "id": "KTVoVn6dfg0z"
      }
    },
    {
      "cell_type": "code",
      "execution_count": null,
      "metadata": {
        "id": "n6E9G7LYfg00"
      },
      "outputs": [],
      "source": [
        "# your code here"
      ]
    },
    {
      "cell_type": "markdown",
      "source": [
        "14. Создать случайную матрицу 5x7 целых чисел от 1 до 100 и удалить [3,5] колонки"
      ],
      "metadata": {
        "id": "2gISyO8Tfg1-"
      }
    },
    {
      "cell_type": "code",
      "execution_count": 21,
      "metadata": {
        "id": "8CNseuq6fg1-",
        "colab": {
          "base_uri": "https://localhost:8080/"
        },
        "outputId": "6c293ac5-a17f-4b53-b013-2863c31779a5"
      },
      "outputs": [
        {
          "output_type": "execute_result",
          "data": {
            "text/plain": [
              "array([[20, 29, 24, 18, 64],\n",
              "       [30, 30,  6, 54, 72],\n",
              "       [50, 85, 13, 85,  2],\n",
              "       [21, 85, 64, 40, 11],\n",
              "       [64, 63, 49, 82,  2]])"
            ]
          },
          "metadata": {},
          "execution_count": 21
        }
      ],
      "source": [
        "arr1 = np.random.randint(1,100, size=(5,7))\n",
        "np.delete(arr1, [2,4], axis = 1)"
      ]
    },
    {
      "cell_type": "markdown",
      "source": [
        "15. Вычислите [скользящее среднее](https://ru.wikipedia.org/wiki/%D0%A1%D0%BA%D0%BE%D0%BB%D1%8C%D0%B7%D1%8F%D1%89%D0%B0%D1%8F_%D1%81%D1%80%D0%B5%D0%B4%D0%BD%D1%8F%D1%8F) в окне ширины 3"
      ],
      "metadata": {
        "id": "DyFT6PjAfg3H"
      }
    },
    {
      "cell_type": "code",
      "execution_count": 22,
      "metadata": {
        "id": "fbBZCGXrfg3H",
        "colab": {
          "base_uri": "https://localhost:8080/"
        },
        "outputId": "53205f5d-eaee-4ad8-9629-d21e5e7661ee"
      },
      "outputs": [
        {
          "output_type": "execute_result",
          "data": {
            "text/plain": [
              "array([ 2.        ,  2.        ,  1.66666667, ..., 18.        ,\n",
              "       21.66666667, 15.66666667])"
            ]
          },
          "metadata": {},
          "execution_count": 22
        }
      ],
      "source": [
        "arr1 = np.array([1,2,3,1,1,4,6,7,1,52,1,12,34])\n",
        "w = 3\n",
        "np.convolve(arr1, np.ones(w)/w, 'valid')"
      ]
    },
    {
      "cell_type": "code",
      "source": [],
      "metadata": {
        "id": "ptW32pYSl1Mw"
      },
      "execution_count": null,
      "outputs": []
    }
  ]
}